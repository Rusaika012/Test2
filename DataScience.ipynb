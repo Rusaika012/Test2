{
 "cells": [
  {
   "cell_type": "markdown",
   "id": "e2e37d72-571d-47cd-a650-6f6c21c8d83c",
   "metadata": {},
   "source": [
    "# My Jupyter Notebook Skills"
   ]
  },
  {
   "cell_type": "markdown",
   "id": "ff37f51c-e1bc-4e9f-8bfa-1be5ade742b0",
   "metadata": {},
   "source": [
    "## Introduciton : In this notebook ı will show you my skills and finish my work according to following instructions."
   ]
  },
  {
   "cell_type": "markdown",
   "id": "057a3039-23d0-4857-a7ba-fafb67683335",
   "metadata": {},
   "source": [
    "### List data science languages\n",
    "- Python, \n",
    "- R,\n",
    "- SQL\n",
    "#### However other than first three foremost languages we haveother languages such as \n",
    "- Scala, \n",
    "- Java, \n",
    "- C++,\n",
    "- Julia\n",
    "- JavaScript, \n",
    "- PHP, \n",
    "- Go, \n",
    "- Ruby,"
   ]
  },
  {
   "cell_type": "markdown",
   "id": "79f426cc-4ec1-4f84-ae93-6ada42b7932c",
   "metadata": {
    "tags": []
   },
   "source": [
    "### List data science libraries\n",
    "-  Pandas offers data structures and tools for effective data cleaning, manipulation, and analysis.\n",
    "- The Matplotlib package is the most well-known library for data visualization.\n",
    "- Another high-level visualization library is Seaborn.\n",
    "- For machine learning, the Scikit-learn library contains tools for statistical modeling, including regression, classification, clustering, and so on.\n",
    "- For building deep learning models, Keras allows you to build the standard deep learning model. \n",
    "- Like Scikit, the high-level interface allows you to build models in a quick, simple manner. \n",
    "- TensorFlow is a low-level framework used in the large-scale production of deep learning models. \n",
    "- Pytorch is used for experimentation, making it simple for researchers to test ideas. \n",
    "- Apache Spark is a general-purpose cluster-computing framework allowing you to process data using compute clusters. \n",
    "- Scala\n",
    "- Vegas"
   ]
  },
  {
   "cell_type": "markdown",
   "id": "294a532b-d76c-42d9-a6ce-6f03c389c2ae",
   "metadata": {
    "tags": []
   },
   "source": [
    "### Table of Data Science tools\n",
    "| DATA MANAGEMENT | DATA INTEGRATION and TRANSFORMATION | DATA VISUALIZATION | MODEL DEPLOYMENT | MODEL MONITORING and ASSESSMENT | CODE ASSET MANAGEMENT | DATA ASSET MANAGEMENT |\n",
    "| --------------- | ----------------------------------- | ------------------ | ---------------- | ------------------------------- | --------------------- | ---------------------------- |\n",
    "| MySQL           | Apache AirFlow | Pixie Dust      | Apache PredictionIO | IBM AI Fairness 360 | Git | Apache Atlas |\n",
    "| PostgreSQL      | KubeFlow       | Hue             | Seldon | ModelDB       |GitHub | ODPi Egeria | Kylo |\n",
    "| MongoDB         | Apache Kafka   | Kibana          | Kubernetes | Prometheus | GitLab | \n",
    "| Apache          | Apache Nifi    | Apache Superset | Redhat OpenShift | The IBM Adversarial Robustness 360 | Bitbucket |\n",
    "| CouchDB         | Apache SparkSQL                  | MLeap |\n",
    "| Apache Cassandra|Raspberry Pi                  | TensorFlow |\n",
    "| Ceph            | NodeRED |"
   ]
  },
  {
   "cell_type": "code",
   "execution_count": 35,
   "id": "c2ee6572-67a6-4db8-ba93-aefb376cb8eb",
   "metadata": {
    "tags": []
   },
   "outputs": [
    {
     "name": "stdout",
     "output_type": "stream",
     "text": [
      "Arithmetic Expression Examples\n",
      "5+4 = \n",
      "9\n"
     ]
    },
    {
     "ename": "TypeError",
     "evalue": "unsupported operand type(s) for +: 'NoneType' and 'NoneType'",
     "output_type": "error",
     "traceback": [
      "\u001b[0;31m---------------------------------------------------------------------------\u001b[0m",
      "\u001b[0;31mTypeError\u001b[0m                                 Traceback (most recent call last)",
      "\u001b[0;32m/tmp/ipykernel_351/368777602.py\u001b[0m in \u001b[0;36m<module>\u001b[0;34m\u001b[0m\n\u001b[1;32m      1\u001b[0m \u001b[0mprint\u001b[0m\u001b[0;34m(\u001b[0m\u001b[0;34m\"Arithmetic Expression Examples\"\u001b[0m\u001b[0;34m)\u001b[0m\u001b[0;34m\u001b[0m\u001b[0;34m\u001b[0m\u001b[0m\n\u001b[0;32m----> 2\u001b[0;31m \u001b[0mprint\u001b[0m \u001b[0;34m(\u001b[0m\u001b[0;34m\"5+4 = \"\u001b[0m\u001b[0;34m)\u001b[0m \u001b[0;34m+\u001b[0m \u001b[0mprint\u001b[0m \u001b[0;34m(\u001b[0m\u001b[0;36m5\u001b[0m\u001b[0;34m+\u001b[0m\u001b[0;36m4\u001b[0m\u001b[0;34m)\u001b[0m\u001b[0;34m\u001b[0m\u001b[0;34m\u001b[0m\u001b[0m\n\u001b[0m\u001b[1;32m      3\u001b[0m \u001b[0mprint\u001b[0m \u001b[0;34m(\u001b[0m\u001b[0;36m5\u001b[0m\u001b[0;34m*\u001b[0m\u001b[0;36m4\u001b[0m\u001b[0;34m)\u001b[0m\u001b[0;34m\u001b[0m\u001b[0;34m\u001b[0m\u001b[0m\n\u001b[1;32m      4\u001b[0m \u001b[0mprint\u001b[0m \u001b[0;34m(\u001b[0m\u001b[0;36m10\u001b[0m\u001b[0;34m/\u001b[0m\u001b[0;36m2\u001b[0m\u001b[0;34m)\u001b[0m\u001b[0;34m\u001b[0m\u001b[0;34m\u001b[0m\u001b[0m\n\u001b[1;32m      5\u001b[0m \u001b[0mprint\u001b[0m \u001b[0;34m(\u001b[0m\u001b[0;36m10\u001b[0m\u001b[0;34m-\u001b[0m\u001b[0;36m2\u001b[0m\u001b[0;34m)\u001b[0m\u001b[0;34m\u001b[0m\u001b[0;34m\u001b[0m\u001b[0m\n",
      "\u001b[0;31mTypeError\u001b[0m: unsupported operand type(s) for +: 'NoneType' and 'NoneType'"
     ]
    }
   ],
   "source": [
    "print(\"Arithmetic Expression Examples\")\n",
    "print (5+4)\n",
    "print (5*4)\n",
    "print (10/2)\n",
    "print (10-2)\n",
    "\n",
    "\n"
   ]
  },
  {
   "cell_type": "code",
   "execution_count": null,
   "id": "ccb0b23e-cdc4-470b-870f-0086b80dd00e",
   "metadata": {},
   "outputs": [],
   "source": []
  }
 ],
 "metadata": {
  "kernelspec": {
   "display_name": "Python",
   "language": "python",
   "name": "conda-env-python-py"
  },
  "language_info": {
   "codemirror_mode": {
    "name": "ipython",
    "version": 3
   },
   "file_extension": ".py",
   "mimetype": "text/x-python",
   "name": "python",
   "nbconvert_exporter": "python",
   "pygments_lexer": "ipython3",
   "version": "3.7.12"
  }
 },
 "nbformat": 4,
 "nbformat_minor": 5
}
