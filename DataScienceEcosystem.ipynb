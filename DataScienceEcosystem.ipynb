{
 "cells": [
  {
   "cell_type": "markdown",
   "id": "e2e37d72-571d-47cd-a650-6f6c21c8d83c",
   "metadata": {},
   "source": [
    "# My Jupyter Notebook Skills"
   ]
  },
  {
   "cell_type": "markdown",
   "id": "ff37f51c-e1bc-4e9f-8bfa-1be5ade742b0",
   "metadata": {},
   "source": [
    "## Introduciton : In this notebook ı will show you my skills and finish my work according to following instructions."
   ]
  },
  {
   "cell_type": "markdown",
   "id": "057a3039-23d0-4857-a7ba-fafb67683335",
   "metadata": {},
   "source": [
    "### List data science languages\n",
    "1. Python, \n",
    "2. R,\n",
    "3. SQL\n",
    "#### However other than first three foremost languages we haveother languages such as \n",
    "1. Scala, \n",
    "2. Java, \n",
    "3. C++,\n",
    "4. Julia\n",
    "5. JavaScript, \n",
    "6. PHP, \n",
    "7. Go, \n",
    "8. Ruby,"
   ]
  },
  {
   "cell_type": "markdown",
   "id": "79f426cc-4ec1-4f84-ae93-6ada42b7932c",
   "metadata": {
    "tags": []
   },
   "source": [
    "### List data science libraries\n",
    "1. Pandas offers data structures and tools for effective data cleaning, manipulation, and analysis.\n",
    "2. The Matplotlib package is the most well-known library for data visualization.\n",
    "3. Another high-level visualization library is Seaborn.\n",
    "4. For machine learning, the Scikit-learn library contains tools for statistical modeling, including regression, classification, clustering, and so on.\n",
    "5. For building deep learning models, Keras allows you to build the standard deep learning model. \n",
    "6. Like Scikit, the high-level interface allows you to build models in a quick, simple manner. \n",
    "7. TensorFlow is a low-level framework used in the large-scale production of deep learning models. \n",
    "8. Pytorch is used for experimentation, making it simple for researchers to test ideas. \n",
    "9. Apache Spark is a general-purpose cluster-computing framework allowing you to process data using compute clusters. \n",
    "10. Scala\n",
    "11. Vegas"
   ]
  },
  {
   "cell_type": "markdown",
   "id": "294a532b-d76c-42d9-a6ce-6f03c389c2ae",
   "metadata": {
    "tags": []
   },
   "source": [
    "### Table of Data Science tools\n",
    "| DATA MANAGEMENT | DATA INTEGRATION and TRANSFORMATION | DATA VISUALIZATION | MODEL DEPLOYMENT | MODEL MONITORING and ASSESSMENT | CODE ASSET MANAGEMENT | DATA ASSET MANAGEMENT |\n",
    "| --------------- | ----------------------------------- | ------------------ | ---------------- | ------------------------------- | --------------------- | ---------------------------- |\n",
    "| MySQL           | Apache AirFlow | Pixie Dust      | Apache PredictionIO | IBM AI Fairness 360 | Git | Apache Atlas |\n",
    "| PostgreSQL      | KubeFlow       | Hue             | Seldon | ModelDB       |GitHub | ODPi Egeria | Kylo |\n",
    "| MongoDB         | Apache Kafka   | Kibana          | Kubernetes | Prometheus | GitLab | \n",
    "| Apache          | Apache Nifi    | Apache Superset | Redhat OpenShift | The IBM Adversarial Robustness 360 | Bitbucket |\n",
    "| CouchDB         | Apache SparkSQL                  | MLeap |\n",
    "| Apache Cassandra|Raspberry Pi                  | TensorFlow |\n",
    "| Ceph            | NodeRED |"
   ]
  },
  {
   "cell_type": "code",
   "execution_count": 36,
   "id": "c2ee6572-67a6-4db8-ba93-aefb376cb8eb",
   "metadata": {
    "tags": []
   },
   "outputs": [
    {
     "name": "stdout",
     "output_type": "stream",
     "text": [
      "Arithmetic Expression Examples\n",
      "9\n",
      "20\n",
      "5.0\n",
      "8\n"
     ]
    }
   ],
   "source": [
    "print(\"Arithmetic Expression Examples\")\n",
    "print (5+4)\n",
    "print (5*4)\n",
    "print (10/2)\n",
    "print (10-2)\n",
    "\n",
    "\n"
   ]
  },
  {
   "cell_type": "code",
   "execution_count": 40,
   "id": "ccb0b23e-cdc4-470b-870f-0086b80dd00e",
   "metadata": {
    "tags": []
   },
   "outputs": [
    {
     "name": "stdout",
     "output_type": "stream",
     "text": [
      "Code Cell to Multiply and Add Numbers\n",
      "54\n"
     ]
    }
   ],
   "source": [
    "print(\"Code Cell to Multiply and Add Numbers\")\n",
    "print(int(5*9+9))"
   ]
  },
  {
   "cell_type": "code",
   "execution_count": 41,
   "id": "b603d9bb-7f03-453c-b937-ca1657d93502",
   "metadata": {
    "tags": []
   },
   "outputs": [
    {
     "name": "stdin",
     "output_type": "stream",
     "text": [
      "Enter time in minutes 820\n"
     ]
    },
    {
     "name": "stdout",
     "output_type": "stream",
     "text": [
      "HOUR= 13\n",
      "MINUTES= 40\n"
     ]
    }
   ],
   "source": [
    "min=int(input(\"Enter time in minutes\"))\n",
    "h=min//60\n",
    "m=min%60\n",
    "print(\"HOUR=\",h)\n",
    "print(\"MINUTES=\",m)"
   ]
  },
  {
   "cell_type": "markdown",
   "id": "9acb02c3-1a18-42e8-8ce6-2a6e75b34cb0",
   "metadata": {},
   "source": [
    "### Objectives\n",
    "- I want to became a data scientis\n",
    "- I want to be able to analysis the data.\n",
    "- I want to help people with my analysis.\n",
    "- I want to educate my self and reach the best potential of mine."
   ]
  },
  {
   "cell_type": "markdown",
   "id": "74b76b46-253a-40b0-b01e-331de947a3c1",
   "metadata": {},
   "source": [
    "# Author’s name : Mustafa Hızarcı"
   ]
  },
  {
   "cell_type": "code",
   "execution_count": null,
   "id": "17ecb7d9-798d-412a-8335-4840cb83445c",
   "metadata": {},
   "outputs": [],
   "source": []
  }
 ],
 "metadata": {
  "kernelspec": {
   "display_name": "Python",
   "language": "python",
   "name": "conda-env-python-py"
  },
  "language_info": {
   "codemirror_mode": {
    "name": "ipython",
    "version": 3
   },
   "file_extension": ".py",
   "mimetype": "text/x-python",
   "name": "python",
   "nbconvert_exporter": "python",
   "pygments_lexer": "ipython3",
   "version": "3.7.12"
  }
 },
 "nbformat": 4,
 "nbformat_minor": 5
}
